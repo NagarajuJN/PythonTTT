{
  "nbformat": 4,
  "nbformat_minor": 0,
  "metadata": {
    "colab": {
      "provenance": []
    },
    "kernelspec": {
      "name": "python3",
      "display_name": "Python 3"
    },
    "language_info": {
      "name": "python"
    }
  },
  "cells": [
    {
      "cell_type": "code",
      "execution_count": 1,
      "metadata": {
        "id": "IeVZFh5Jng3u"
      },
      "outputs": [],
      "source": [
        "import pandas\n"
      ]
    },
    {
      "cell_type": "code",
      "source": [
        "print(dir(pandas))"
      ],
      "metadata": {
        "colab": {
          "base_uri": "https://localhost:8080/"
        },
        "id": "tSz8od2WoEoS",
        "outputId": "904a803f-dcfc-41bb-f54d-17019380b189"
      },
      "execution_count": 3,
      "outputs": [
        {
          "output_type": "stream",
          "name": "stdout",
          "text": [
            "['ArrowDtype', 'BooleanDtype', 'Categorical', 'CategoricalDtype', 'CategoricalIndex', 'DataFrame', 'DateOffset', 'DatetimeIndex', 'DatetimeTZDtype', 'ExcelFile', 'ExcelWriter', 'Flags', 'Float32Dtype', 'Float64Dtype', 'Float64Index', 'Grouper', 'HDFStore', 'Index', 'IndexSlice', 'Int16Dtype', 'Int32Dtype', 'Int64Dtype', 'Int64Index', 'Int8Dtype', 'Interval', 'IntervalDtype', 'IntervalIndex', 'MultiIndex', 'NA', 'NaT', 'NamedAgg', 'Period', 'PeriodDtype', 'PeriodIndex', 'RangeIndex', 'Series', 'SparseDtype', 'StringDtype', 'Timedelta', 'TimedeltaIndex', 'Timestamp', 'UInt16Dtype', 'UInt32Dtype', 'UInt64Dtype', 'UInt64Index', 'UInt8Dtype', '__all__', '__builtins__', '__cached__', '__deprecated_num_index_names', '__dir__', '__doc__', '__docformat__', '__file__', '__getattr__', '__git_version__', '__loader__', '__name__', '__package__', '__path__', '__spec__', '__version__', '_config', '_is_numpy_dev', '_libs', '_testing', '_typing', '_version', 'annotations', 'api', 'array', 'arrays', 'bdate_range', 'compat', 'concat', 'core', 'crosstab', 'cut', 'date_range', 'describe_option', 'errors', 'eval', 'factorize', 'from_dummies', 'get_dummies', 'get_option', 'infer_freq', 'interval_range', 'io', 'isna', 'isnull', 'json_normalize', 'lreshape', 'melt', 'merge', 'merge_asof', 'merge_ordered', 'notna', 'notnull', 'offsets', 'option_context', 'options', 'pandas', 'period_range', 'pivot', 'pivot_table', 'plotting', 'qcut', 'read_clipboard', 'read_csv', 'read_excel', 'read_feather', 'read_fwf', 'read_gbq', 'read_hdf', 'read_html', 'read_json', 'read_orc', 'read_parquet', 'read_pickle', 'read_sas', 'read_spss', 'read_sql', 'read_sql_query', 'read_sql_table', 'read_stata', 'read_table', 'read_xml', 'reset_option', 'set_eng_float_format', 'set_option', 'show_versions', 'test', 'testing', 'timedelta_range', 'to_datetime', 'to_numeric', 'to_pickle', 'to_timedelta', 'tseries', 'unique', 'util', 'value_counts', 'wide_to_long']\n"
          ]
        }
      ]
    },
    {
      "cell_type": "code",
      "source": [
        "pip list"
      ],
      "metadata": {
        "colab": {
          "base_uri": "https://localhost:8080/"
        },
        "id": "dZbTmmn9ogj2",
        "outputId": "69398e9a-2ccc-49a5-b704-9b51b3ed418a"
      },
      "execution_count": 4,
      "outputs": [
        {
          "output_type": "stream",
          "name": "stdout",
          "text": [
            "Package                          Version\n",
            "-------------------------------- ---------------------\n",
            "absl-py                          1.4.0\n",
            "aiohttp                          3.9.1\n",
            "aiosignal                        1.3.1\n",
            "alabaster                        0.7.13\n",
            "albumentations                   1.3.1\n",
            "altair                           4.2.2\n",
            "anyio                            3.7.1\n",
            "appdirs                          1.4.4\n",
            "argon2-cffi                      23.1.0\n",
            "argon2-cffi-bindings             21.2.0\n",
            "array-record                     0.5.0\n",
            "arviz                            0.15.1\n",
            "astropy                          5.3.4\n",
            "astunparse                       1.6.3\n",
            "async-timeout                    4.0.3\n",
            "atpublic                         4.0\n",
            "attrs                            23.1.0\n",
            "audioread                        3.0.1\n",
            "autograd                         1.6.2\n",
            "Babel                            2.14.0\n",
            "backcall                         0.2.0\n",
            "beautifulsoup4                   4.11.2\n",
            "bidict                           0.22.1\n",
            "bigframes                        0.17.0\n",
            "bleach                           6.1.0\n",
            "blinker                          1.4\n",
            "blis                             0.7.11\n",
            "blosc2                           2.0.0\n",
            "bokeh                            3.3.2\n",
            "bqplot                           0.12.42\n",
            "branca                           0.7.0\n",
            "build                            1.0.3\n",
            "CacheControl                     0.13.1\n",
            "cachetools                       5.3.2\n",
            "catalogue                        2.0.10\n",
            "certifi                          2023.11.17\n",
            "cffi                             1.16.0\n",
            "chardet                          5.2.0\n",
            "charset-normalizer               3.3.2\n",
            "chex                             0.1.7\n",
            "click                            8.1.7\n",
            "click-plugins                    1.1.1\n",
            "cligj                            0.7.2\n",
            "cloudpickle                      2.2.1\n",
            "cmake                            3.27.9\n",
            "cmdstanpy                        1.2.0\n",
            "colorcet                         3.0.1\n",
            "colorlover                       0.3.0\n",
            "colour                           0.1.5\n",
            "community                        1.0.0b1\n",
            "confection                       0.1.4\n",
            "cons                             0.4.6\n",
            "contextlib2                      21.6.0\n",
            "contourpy                        1.2.0\n",
            "cryptography                     41.0.7\n",
            "cufflinks                        0.17.3\n",
            "cupy-cuda12x                     12.2.0\n",
            "cvxopt                           1.3.2\n",
            "cvxpy                            1.3.2\n",
            "cycler                           0.12.1\n",
            "cymem                            2.0.8\n",
            "Cython                           3.0.7\n",
            "dask                             2023.8.1\n",
            "datascience                      0.17.6\n",
            "db-dtypes                        1.2.0\n",
            "dbus-python                      1.2.18\n",
            "debugpy                          1.6.6\n",
            "decorator                        4.4.2\n",
            "defusedxml                       0.7.1\n",
            "diskcache                        5.6.3\n",
            "distributed                      2023.8.1\n",
            "distro                           1.7.0\n",
            "dlib                             19.24.2\n",
            "dm-tree                          0.1.8\n",
            "docutils                         0.18.1\n",
            "dopamine-rl                      4.0.6\n",
            "duckdb                           0.9.2\n",
            "earthengine-api                  0.1.384\n",
            "easydict                         1.11\n",
            "ecos                             2.0.12\n",
            "editdistance                     0.6.2\n",
            "eerepr                           0.0.4\n",
            "en-core-web-sm                   3.6.0\n",
            "entrypoints                      0.4\n",
            "et-xmlfile                       1.1.0\n",
            "etils                            1.6.0\n",
            "etuples                          0.3.9\n",
            "exceptiongroup                   1.2.0\n",
            "fastai                           2.7.13\n",
            "fastcore                         1.5.29\n",
            "fastdownload                     0.0.7\n",
            "fastjsonschema                   2.19.0\n",
            "fastprogress                     1.0.3\n",
            "fastrlock                        0.8.2\n",
            "filelock                         3.13.1\n",
            "fiona                            1.9.5\n",
            "firebase-admin                   5.3.0\n",
            "Flask                            2.2.5\n",
            "flatbuffers                      23.5.26\n",
            "flax                             0.7.5\n",
            "folium                           0.14.0\n",
            "fonttools                        4.47.0\n",
            "frozendict                       2.3.10\n",
            "frozenlist                       1.4.1\n",
            "fsspec                           2023.6.0\n",
            "future                           0.18.3\n",
            "gast                             0.5.4\n",
            "gcsfs                            2023.6.0\n",
            "GDAL                             3.4.3\n",
            "gdown                            4.6.6\n",
            "geemap                           0.29.6\n",
            "gensim                           4.3.2\n",
            "geocoder                         1.38.1\n",
            "geographiclib                    2.0\n",
            "geopandas                        0.13.2\n",
            "geopy                            2.3.0\n",
            "gin-config                       0.5.0\n",
            "glob2                            0.7\n",
            "google                           2.0.3\n",
            "google-ai-generativelanguage     0.4.0\n",
            "google-api-core                  2.11.1\n",
            "google-api-python-client         2.84.0\n",
            "google-auth                      2.17.3\n",
            "google-auth-httplib2             0.1.1\n",
            "google-auth-oauthlib             1.2.0\n",
            "google-cloud-aiplatform          1.38.1\n",
            "google-cloud-bigquery            3.12.0\n",
            "google-cloud-bigquery-connection 1.12.1\n",
            "google-cloud-bigquery-storage    2.24.0\n",
            "google-cloud-core                2.3.3\n",
            "google-cloud-datastore           2.15.2\n",
            "google-cloud-firestore           2.11.1\n",
            "google-cloud-functions           1.13.3\n",
            "google-cloud-iam                 2.13.0\n",
            "google-cloud-language            2.9.1\n",
            "google-cloud-resource-manager    1.11.0\n",
            "google-cloud-storage             2.8.0\n",
            "google-cloud-translate           3.11.3\n",
            "google-colab                     1.0.0\n",
            "google-crc32c                    1.5.0\n",
            "google-generativeai              0.3.2\n",
            "google-pasta                     0.2.0\n",
            "google-resumable-media           2.7.0\n",
            "googleapis-common-protos         1.62.0\n",
            "googledrivedownloader            0.4\n",
            "graphviz                         0.20.1\n",
            "greenlet                         3.0.2\n",
            "grpc-google-iam-v1               0.13.0\n",
            "grpcio                           1.60.0\n",
            "grpcio-status                    1.48.2\n",
            "gspread                          3.4.2\n",
            "gspread-dataframe                3.3.1\n",
            "gym                              0.25.2\n",
            "gym-notices                      0.0.8\n",
            "h5netcdf                         1.3.0\n",
            "h5py                             3.9.0\n",
            "holidays                         0.39\n",
            "holoviews                        1.17.1\n",
            "html5lib                         1.1\n",
            "httpimport                       1.3.1\n",
            "httplib2                         0.22.0\n",
            "huggingface-hub                  0.20.1\n",
            "humanize                         4.7.0\n",
            "hyperopt                         0.2.7\n",
            "ibis-framework                   6.2.0\n",
            "idna                             3.6\n",
            "imageio                          2.31.6\n",
            "imageio-ffmpeg                   0.4.9\n",
            "imagesize                        1.4.1\n",
            "imbalanced-learn                 0.10.1\n",
            "imgaug                           0.4.0\n",
            "importlib-metadata               7.0.0\n",
            "importlib-resources              6.1.1\n",
            "imutils                          0.5.4\n",
            "inflect                          7.0.0\n",
            "iniconfig                        2.0.0\n",
            "install                          1.3.5\n",
            "intel-openmp                     2023.2.3\n",
            "ipyevents                        2.0.2\n",
            "ipyfilechooser                   0.6.0\n",
            "ipykernel                        5.5.6\n",
            "ipyleaflet                       0.18.1\n",
            "ipython                          7.34.0\n",
            "ipython-genutils                 0.2.0\n",
            "ipython-sql                      0.5.0\n",
            "ipytree                          0.2.2\n",
            "ipywidgets                       7.7.1\n",
            "itsdangerous                     2.1.2\n",
            "jax                              0.4.23\n",
            "jaxlib                           0.4.23+cuda12.cudnn89\n",
            "jeepney                          0.7.1\n",
            "jieba                            0.42.1\n",
            "Jinja2                           3.1.2\n",
            "joblib                           1.3.2\n",
            "jsonpickle                       3.0.2\n",
            "jsonschema                       4.19.2\n",
            "jsonschema-specifications        2023.11.2\n",
            "jupyter-client                   6.1.12\n",
            "jupyter-console                  6.1.0\n",
            "jupyter_core                     5.5.1\n",
            "jupyter-server                   1.24.0\n",
            "jupyterlab_pygments              0.3.0\n",
            "jupyterlab-widgets               3.0.9\n",
            "kaggle                           1.5.16\n",
            "kagglehub                        0.1.4\n",
            "keras                            2.15.0\n",
            "keyring                          23.5.0\n",
            "kiwisolver                       1.4.5\n",
            "langcodes                        3.3.0\n",
            "launchpadlib                     1.10.16\n",
            "lazr.restfulclient               0.14.4\n",
            "lazr.uri                         1.0.6\n",
            "lazy_loader                      0.3\n",
            "libclang                         16.0.6\n",
            "librosa                          0.10.1\n",
            "lida                             0.0.10\n",
            "lightgbm                         4.1.0\n",
            "linkify-it-py                    2.0.2\n",
            "llmx                             0.0.15a0\n",
            "llvmlite                         0.41.1\n",
            "locket                           1.0.0\n",
            "logical-unification              0.4.6\n",
            "lxml                             4.9.4\n",
            "malloy                           2023.1067\n",
            "Markdown                         3.5.1\n",
            "markdown-it-py                   3.0.0\n",
            "MarkupSafe                       2.1.3\n",
            "matplotlib                       3.7.1\n",
            "matplotlib-inline                0.1.6\n",
            "matplotlib-venn                  0.11.9\n",
            "mdit-py-plugins                  0.4.0\n",
            "mdurl                            0.1.2\n",
            "miniKanren                       1.0.3\n",
            "missingno                        0.5.2\n",
            "mistune                          0.8.4\n",
            "mizani                           0.9.3\n",
            "mkl                              2023.2.0\n",
            "ml-dtypes                        0.2.0\n",
            "mlxtend                          0.22.0\n",
            "more-itertools                   10.1.0\n",
            "moviepy                          1.0.3\n",
            "mpmath                           1.3.0\n",
            "msgpack                          1.0.7\n",
            "multidict                        6.0.4\n",
            "multipledispatch                 1.0.0\n",
            "multitasking                     0.0.11\n",
            "murmurhash                       1.0.10\n",
            "music21                          9.1.0\n",
            "natsort                          8.4.0\n",
            "nbclassic                        1.0.0\n",
            "nbclient                         0.9.0\n",
            "nbconvert                        6.5.4\n",
            "nbformat                         5.9.2\n",
            "nest-asyncio                     1.5.8\n",
            "networkx                         3.2.1\n",
            "nibabel                          4.0.2\n",
            "nltk                             3.8.1\n",
            "notebook                         6.5.5\n",
            "notebook_shim                    0.2.3\n",
            "numba                            0.58.1\n",
            "numexpr                          2.8.8\n",
            "numpy                            1.23.5\n",
            "oauth2client                     4.1.3\n",
            "oauthlib                         3.2.2\n",
            "opencv-contrib-python            4.8.0.76\n",
            "opencv-python                    4.8.0.76\n",
            "opencv-python-headless           4.8.1.78\n",
            "openpyxl                         3.1.2\n",
            "opt-einsum                       3.3.0\n",
            "optax                            0.1.7\n",
            "orbax-checkpoint                 0.4.4\n",
            "osqp                             0.6.2.post8\n",
            "packaging                        23.2\n",
            "pandas                           1.5.3\n",
            "pandas-datareader                0.10.0\n",
            "pandas-gbq                       0.19.2\n",
            "pandas-stubs                     1.5.3.230304\n",
            "pandocfilters                    1.5.0\n",
            "panel                            1.3.6\n",
            "param                            2.0.1\n",
            "parso                            0.8.3\n",
            "parsy                            2.1\n",
            "partd                            1.4.1\n",
            "pathlib                          1.0.1\n",
            "pathy                            0.10.3\n",
            "patsy                            0.5.4\n",
            "peewee                           3.17.0\n",
            "pexpect                          4.9.0\n",
            "pickleshare                      0.7.5\n",
            "Pillow                           9.4.0\n",
            "pip                              23.1.2\n",
            "pip-tools                        6.13.0\n",
            "platformdirs                     4.1.0\n",
            "plotly                           5.15.0\n",
            "plotnine                         0.12.4\n",
            "pluggy                           1.3.0\n",
            "polars                           0.17.3\n",
            "pooch                            1.8.0\n",
            "portpicker                       1.5.2\n",
            "prefetch-generator               1.0.3\n",
            "preshed                          3.0.9\n",
            "prettytable                      3.9.0\n",
            "proglog                          0.1.10\n",
            "progressbar2                     4.2.0\n",
            "prometheus-client                0.19.0\n",
            "promise                          2.3\n",
            "prompt-toolkit                   3.0.43\n",
            "prophet                          1.1.5\n",
            "proto-plus                       1.23.0\n",
            "protobuf                         3.20.3\n",
            "psutil                           5.9.5\n",
            "psycopg2                         2.9.9\n",
            "ptyprocess                       0.7.0\n",
            "py-cpuinfo                       9.0.0\n",
            "py4j                             0.10.9.7\n",
            "pyarrow                          10.0.1\n",
            "pyasn1                           0.5.1\n",
            "pyasn1-modules                   0.3.0\n",
            "pycocotools                      2.0.7\n",
            "pycparser                        2.21\n",
            "pyct                             0.5.0\n",
            "pydantic                         1.10.13\n",
            "pydata-google-auth               1.8.2\n",
            "pydot                            1.4.2\n",
            "pydot-ng                         2.0.0\n",
            "pydotplus                        2.0.2\n",
            "PyDrive                          1.3.1\n",
            "PyDrive2                         1.6.3\n",
            "pyerfa                           2.0.1.1\n",
            "pygame                           2.5.2\n",
            "Pygments                         2.16.1\n",
            "PyGObject                        3.42.1\n",
            "PyJWT                            2.3.0\n",
            "pymc                             5.7.2\n",
            "pymystem3                        0.2.0\n",
            "PyOpenGL                         3.1.7\n",
            "pyOpenSSL                        23.3.0\n",
            "pyparsing                        3.1.1\n",
            "pyperclip                        1.8.2\n",
            "pyproj                           3.6.1\n",
            "pyproject_hooks                  1.0.0\n",
            "pyshp                            2.3.1\n",
            "PySocks                          1.7.1\n",
            "pytensor                         2.14.2\n",
            "pytest                           7.4.3\n",
            "python-apt                       0.0.0\n",
            "python-box                       7.1.1\n",
            "python-dateutil                  2.8.2\n",
            "python-louvain                   0.16\n",
            "python-slugify                   8.0.1\n",
            "python-utils                     3.8.1\n",
            "pytz                             2023.3.post1\n",
            "pyviz_comms                      3.0.0\n",
            "PyWavelets                       1.5.0\n",
            "PyYAML                           6.0.1\n",
            "pyzmq                            23.2.1\n",
            "qdldl                            0.1.7.post0\n",
            "qudida                           0.0.4\n",
            "ratelim                          0.1.6\n",
            "referencing                      0.32.0\n",
            "regex                            2023.6.3\n",
            "requests                         2.31.0\n",
            "requests-oauthlib                1.3.1\n",
            "requirements-parser              0.5.0\n",
            "rich                             13.7.0\n",
            "rpds-py                          0.15.2\n",
            "rpy2                             3.4.2\n",
            "rsa                              4.9\n",
            "safetensors                      0.4.1\n",
            "scikit-image                     0.19.3\n",
            "scikit-learn                     1.2.2\n",
            "scipy                            1.11.4\n",
            "scooby                           0.9.2\n",
            "scs                              3.2.4.post1\n",
            "seaborn                          0.12.2\n",
            "SecretStorage                    3.3.1\n",
            "Send2Trash                       1.8.2\n",
            "setuptools                       67.7.2\n",
            "shapely                          2.0.2\n",
            "six                              1.16.0\n",
            "sklearn-pandas                   2.2.0\n",
            "smart-open                       6.4.0\n",
            "sniffio                          1.3.0\n",
            "snowballstemmer                  2.2.0\n",
            "sortedcontainers                 2.4.0\n",
            "soundfile                        0.12.1\n",
            "soupsieve                        2.5\n",
            "soxr                             0.3.7\n",
            "spacy                            3.6.1\n",
            "spacy-legacy                     3.0.12\n",
            "spacy-loggers                    1.0.5\n",
            "Sphinx                           5.0.2\n",
            "sphinxcontrib-applehelp          1.0.7\n",
            "sphinxcontrib-devhelp            1.0.5\n",
            "sphinxcontrib-htmlhelp           2.0.4\n",
            "sphinxcontrib-jsmath             1.0.1\n",
            "sphinxcontrib-qthelp             1.0.6\n",
            "sphinxcontrib-serializinghtml    1.1.9\n",
            "SQLAlchemy                       2.0.23\n",
            "sqlglot                          17.16.2\n",
            "sqlparse                         0.4.4\n",
            "srsly                            2.4.8\n",
            "stanio                           0.3.0\n",
            "statsmodels                      0.14.1\n",
            "sympy                            1.12\n",
            "tables                           3.8.0\n",
            "tabulate                         0.9.0\n",
            "tbb                              2021.11.0\n",
            "tblib                            3.0.0\n",
            "tenacity                         8.2.3\n",
            "tensorboard                      2.15.1\n",
            "tensorboard-data-server          0.7.2\n",
            "tensorflow                       2.15.0\n",
            "tensorflow-datasets              4.9.4\n",
            "tensorflow-estimator             2.15.0\n",
            "tensorflow-gcs-config            2.15.0\n",
            "tensorflow-hub                   0.15.0\n",
            "tensorflow-io-gcs-filesystem     0.35.0\n",
            "tensorflow-metadata              1.14.0\n",
            "tensorflow-probability           0.22.0\n",
            "tensorstore                      0.1.45\n",
            "termcolor                        2.4.0\n",
            "terminado                        0.18.0\n",
            "text-unidecode                   1.3\n",
            "textblob                         0.17.1\n",
            "tf-slim                          1.1.0\n",
            "thinc                            8.1.12\n",
            "threadpoolctl                    3.2.0\n",
            "tifffile                         2023.12.9\n",
            "tinycss2                         1.2.1\n",
            "tokenizers                       0.15.0\n",
            "toml                             0.10.2\n",
            "tomli                            2.0.1\n",
            "toolz                            0.12.0\n",
            "torch                            2.1.0+cu121\n",
            "torchaudio                       2.1.0+cu121\n",
            "torchdata                        0.7.0\n",
            "torchsummary                     1.5.1\n",
            "torchtext                        0.16.0\n",
            "torchvision                      0.16.0+cu121\n",
            "tornado                          6.3.2\n",
            "tqdm                             4.66.1\n",
            "traitlets                        5.7.1\n",
            "traittypes                       0.2.1\n",
            "transformers                     4.35.2\n",
            "triton                           2.1.0\n",
            "tweepy                           4.14.0\n",
            "typer                            0.9.0\n",
            "types-pytz                       2023.3.1.1\n",
            "types-setuptools                 69.0.0.0\n",
            "typing_extensions                4.5.0\n",
            "tzlocal                          5.2\n",
            "uc-micro-py                      1.0.2\n",
            "uritemplate                      4.1.1\n",
            "urllib3                          2.0.7\n",
            "vega-datasets                    0.9.0\n",
            "wadllib                          1.3.6\n",
            "wasabi                           1.1.2\n",
            "wcwidth                          0.2.12\n",
            "webcolors                        1.13\n",
            "webencodings                     0.5.1\n",
            "websocket-client                 1.7.0\n",
            "Werkzeug                         3.0.1\n",
            "wheel                            0.42.0\n",
            "widgetsnbextension               3.6.6\n",
            "wordcloud                        1.9.3\n",
            "wrapt                            1.14.1\n",
            "xarray                           2023.7.0\n",
            "xarray-einstats                  0.6.0\n",
            "xgboost                          2.0.3\n",
            "xlrd                             2.0.1\n",
            "xxhash                           3.4.1\n",
            "xyzservices                      2023.10.1\n",
            "yarl                             1.9.4\n",
            "yellowbrick                      1.5\n",
            "yfinance                         0.2.33\n",
            "zict                             3.0.0\n",
            "zipp                             3.17.0\n"
          ]
        }
      ]
    },
    {
      "cell_type": "code",
      "source": [
        "import numpy as np\n",
        "# Example with int32\n",
        "arr = np.array([1, 2, 3], dtype=np.int32)\n",
        "print(arr)"
      ],
      "metadata": {
        "colab": {
          "base_uri": "https://localhost:8080/"
        },
        "id": "q1ZcdHiESFBG",
        "outputId": "0c116861-3d81-4895-9ecd-d144142b9850"
      },
      "execution_count": 41,
      "outputs": [
        {
          "output_type": "stream",
          "name": "stdout",
          "text": [
            "[1 2 3]\n"
          ]
        }
      ]
    },
    {
      "cell_type": "code",
      "source": [
        "import numpy as np\n",
        "arr = np.array([0, 1, 2, 3, 4, 5])\n",
        "# Extract elements from index 1 to 4 (exclusive)\n",
        "sliced_array = arr[1:4]\n",
        "print(sliced_array)"
      ],
      "metadata": {
        "colab": {
          "base_uri": "https://localhost:8080/"
        },
        "id": "EMkYomDqVDZw",
        "outputId": "998e4141-ebff-496f-838c-54faf19bfba7"
      },
      "execution_count": 42,
      "outputs": [
        {
          "output_type": "stream",
          "name": "stdout",
          "text": [
            "[1 2 3]\n"
          ]
        }
      ]
    },
    {
      "cell_type": "code",
      "source": [
        "import numpy as np\n",
        "# Create an array from a list\n",
        "arr1 = np.array([1, 2, 3])\n",
        "# Create an array from a tuple\n",
        "arr2 = np.array((4, 5, 6))\n",
        "print(\"Array from List:\", arr1)\n",
        "print(\"Array from Tuple:\", arr2)"
      ],
      "metadata": {
        "colab": {
          "base_uri": "https://localhost:8080/"
        },
        "id": "IlFkOGg9SNBu",
        "outputId": "e5cbb2ea-a79b-4627-8efa-8a725cd56db9"
      },
      "execution_count": 29,
      "outputs": [
        {
          "output_type": "stream",
          "name": "stdout",
          "text": [
            "Array from List: [1 2 3]\n",
            "Array from Tuple: [4 5 6]\n"
          ]
        }
      ]
    },
    {
      "cell_type": "code",
      "source": [
        "import numpy as np\n",
        "arr = np.array([[1, 2, 3], [4, 5, 6], [7, 8, 9]])\n",
        "# Extract the second row\n",
        "row = arr[1, :]\n",
        "print(row) #\n",
        "# Extract the second column\n",
        "col = arr[:, 1]\n",
        "print(col) #\n"
      ],
      "metadata": {
        "colab": {
          "base_uri": "https://localhost:8080/"
        },
        "id": "WSnnSK5jU1Bt",
        "outputId": "c11bd53c-8825-4a85-b69e-a59753139b86"
      },
      "execution_count": 40,
      "outputs": [
        {
          "output_type": "stream",
          "name": "stdout",
          "text": [
            "[4 5 6]\n",
            "[2 5 8]\n"
          ]
        }
      ]
    },
    {
      "cell_type": "code",
      "source": [
        "import numpy as np\n",
        "# Create an array with values from 0 to 9\n",
        "arr = np.arange(10)\n",
        "print(\"Array with Range of Values:\", arr)"
      ],
      "metadata": {
        "colab": {
          "base_uri": "https://localhost:8080/"
        },
        "id": "Vpa_uE2pSXf5",
        "outputId": "778f5aa2-6ee1-440c-f239-ba4c72263789"
      },
      "execution_count": 30,
      "outputs": [
        {
          "output_type": "stream",
          "name": "stdout",
          "text": [
            "Array with Range of Values: [0 1 2 3 4 5 6 7 8 9]\n"
          ]
        }
      ]
    },
    {
      "cell_type": "code",
      "source": [
        "import numpy as np\n",
        "# Create a 3x3 identity matrix\n",
        "identity_matrix = np.eye(3)\n",
        "print(\"Identity Matrix:\")\n",
        "print(identity_matrix)"
      ],
      "metadata": {
        "colab": {
          "base_uri": "https://localhost:8080/"
        },
        "id": "4T2fNbRaS3_1",
        "outputId": "cf137aba-8eac-4084-85a7-a269d60c97b4"
      },
      "execution_count": 31,
      "outputs": [
        {
          "output_type": "stream",
          "name": "stdout",
          "text": [
            "Identity Matrix:\n",
            "[[1. 0. 0.]\n",
            " [0. 1. 0.]\n",
            " [0. 0. 1.]]\n"
          ]
        }
      ]
    },
    {
      "cell_type": "code",
      "source": [
        "import numpy as np\n",
        "\n",
        "# Survey data: heights (in centimeters) of individuals\n",
        "heights = np.array([160, 165, 170, 155, 180, 172, 168, 178, 175])\n",
        "\n",
        "# Calculate mean, median, and standard deviation\n",
        "mean_height = np.mean(heights)\n",
        "median_height = np.median(heights)\n",
        "std_dev_height = np.std(heights)\n",
        "\n",
        "print(\"Mean Height:\", mean_height)\n",
        "print(\"Median Height:\", median_height)\n",
        "print(\"Standard Deviation of Heights:\", std_dev_height)"
      ],
      "metadata": {
        "colab": {
          "base_uri": "https://localhost:8080/"
        },
        "id": "9PR5b4cQTWy5",
        "outputId": "ecdb86c6-6728-4e5f-fde4-6450aade184a"
      },
      "execution_count": 32,
      "outputs": [
        {
          "output_type": "stream",
          "name": "stdout",
          "text": [
            "Mean Height: 169.22222222222223\n",
            "Median Height: 170.0\n",
            "Standard Deviation of Heights: 7.75711541142536\n"
          ]
        }
      ]
    },
    {
      "cell_type": "code",
      "source": [
        "import numpy as np\n",
        "arr = np.array([1, 4, 2, 9, 7, 5])\n",
        "# Find the index of the maximum value\n",
        "max_index = np.argmax(arr)\n",
        "# Find the index of the minimum value\n",
        "min_index = np.argmin(arr)\n",
        "print(\"Index of maximum value:\", max_index)\n",
        "print(\"Index of minimum value:\", min_index)\n"
      ],
      "metadata": {
        "colab": {
          "base_uri": "https://localhost:8080/"
        },
        "id": "JuH4lmBrWOfm",
        "outputId": "e67a3a51-62d5-4c38-dbdb-82284a590ce4"
      },
      "execution_count": 44,
      "outputs": [
        {
          "output_type": "stream",
          "name": "stdout",
          "text": [
            "Index of maximum value: 3\n",
            "Index of minimum value: 0\n"
          ]
        }
      ]
    },
    {
      "cell_type": "code",
      "source": [
        "import numpy as np\n",
        "arr = np.array([3, 1, 2, 4, 5])\n",
        "# Sort the array in ascending order (creates a new sorted array)\n",
        "sorted_arr = np.sort(arr)\n",
        "# Print the sorted array\n",
        "print(\"Sorted array (ascending):\", sorted_arr)\n",
        "# Sort the array in descending order\n",
        "sorted_arr_desc = np.sort(arr)[::-1]\n",
        "# Print the sorted array in descending order\n",
        "print(\"Sorted array (descending):\", sorted_arr_desc)"
      ],
      "metadata": {
        "colab": {
          "base_uri": "https://localhost:8080/"
        },
        "id": "sB6dMo4wWYX3",
        "outputId": "97099546-9063-4672-d0a3-dcf8c7821491"
      },
      "execution_count": 45,
      "outputs": [
        {
          "output_type": "stream",
          "name": "stdout",
          "text": [
            "Sorted array (ascending): [1 2 3 4 5]\n",
            "Sorted array (descending): [5 4 3 2 1]\n"
          ]
        }
      ]
    },
    {
      "cell_type": "code",
      "source": [
        "import numpy as np\n",
        "\n",
        "# Sample data of individuals' heights in meters and weights in kilograms\n",
        "heights = np.array([1.65, 1.75, 1.60, 1.80, 1.68])  # Heights in meters\n",
        "weights = np.array([70, 85, 65, 95, 75])  # Weights in kilograms\n",
        "\n",
        "# Calculate BMI using the formula: weight (kg) / (height (m))^2\n",
        "bmi_values = weights / (heights ** 2)\n",
        "\n",
        "# Define BMI categories\n",
        "# BMI Categories: Underweight (less than 18.5), Normal weight (18.5 - 24.9), Overweight (25 - 29.9), Obese (30 or greater)\n",
        "categories = np.array(['Underweight', 'Normal weight', 'Overweight', 'Obese'])\n",
        "\n",
        "# Identify individuals who are overweight based on BMI\n",
        "overweight_individuals = heights[bmi_values >= 25]\n",
        "overweight_bmi_values = bmi_values[bmi_values >= 25]\n",
        "\n",
        "# Display results\n",
        "print(\"BMI Values:\", bmi_values)\n",
        "print(\"BMI Categories:\", categories[np.digitize(bmi_values, [18.5, 25, 30])])\n",
        "print(\"Overweight Individuals' Heights:\", overweight_individuals)\n",
        "print(\"Corresponding BMI Values of Overweight Individuals:\", overweight_bmi_values)\n"
      ],
      "metadata": {
        "colab": {
          "base_uri": "https://localhost:8080/"
        },
        "id": "gZ_Qo2BZW7V8",
        "outputId": "9c3c4840-7ed2-4157-84c4-1e0d769decfa"
      },
      "execution_count": 47,
      "outputs": [
        {
          "output_type": "stream",
          "name": "stdout",
          "text": [
            "BMI Values: [25.71166208 27.75510204 25.390625   29.32098765 26.57312925]\n",
            "BMI Categories: ['Overweight' 'Overweight' 'Overweight' 'Overweight' 'Overweight']\n",
            "Overweight Individuals' Heights: [1.65 1.75 1.6  1.8  1.68]\n",
            "Corresponding BMI Values of Overweight Individuals: [25.71166208 27.75510204 25.390625   29.32098765 26.57312925]\n"
          ]
        }
      ]
    },
    {
      "cell_type": "code",
      "source": [
        "import numpy as np\n",
        "# Score of Class A students\n",
        "classA= np.array([85, 88, 90, 92, 95])\n",
        "# Score of Class A students\n",
        "classB= np.array([70, 80, 85, 95, 100])\n",
        "classA_mean=np.mean(classA)\n",
        "classB_mean=np.mean(classB)\n",
        "print('Class A Score Average',classA_mean )\n",
        "print('Class B Score Average',classB_mean )"
      ],
      "metadata": {
        "colab": {
          "base_uri": "https://localhost:8080/"
        },
        "id": "RJ7vvcYqXP12",
        "outputId": "c958a46a-2796-42f2-a982-840530f16cab"
      },
      "execution_count": 48,
      "outputs": [
        {
          "output_type": "stream",
          "name": "stdout",
          "text": [
            "Class A Score Average 90.0\n",
            "Class B Score Average 86.0\n"
          ]
        }
      ]
    },
    {
      "cell_type": "code",
      "source": [
        "import numpy as np\n",
        "# Sample data\n",
        "data = np.array([[1, 2, 3], [4, 5, 6], [7, 8, 9]])\n",
        "# Save the data to a text file\n",
        "np.savetxt('data.txt', data)\n",
        "# Load the data from the text file\n",
        "loaded_data = np.loadtxt('data.txt')\n",
        "print(\"Original Data:\\n\", data)\n",
        "print(\"Loaded Data:\\n\", loaded_data)"
      ],
      "metadata": {
        "colab": {
          "base_uri": "https://localhost:8080/"
        },
        "id": "QOCRFKwoXbWx",
        "outputId": "52113cae-458a-425f-c46b-0170fd9ca936"
      },
      "execution_count": 49,
      "outputs": [
        {
          "output_type": "stream",
          "name": "stdout",
          "text": [
            "Original Data:\n",
            " [[1 2 3]\n",
            " [4 5 6]\n",
            " [7 8 9]]\n",
            "Loaded Data:\n",
            " [[1. 2. 3.]\n",
            " [4. 5. 6.]\n",
            " [7. 8. 9.]]\n"
          ]
        }
      ]
    },
    {
      "cell_type": "code",
      "source": [
        "import numpy as np\n",
        "arr1 = np.array([1, 2, 3, 4])\n",
        "arr2 = np.array([3, 2, 1, 4])\n",
        "# Element-wise equality\n",
        "result_equal = arr1 == arr2\n",
        "# Element-wise greater than\n",
        "result_gt = arr1 > arr2\n",
        "print(\"Element-wise Equality:\", result_equal)\n",
        "print(\"Element-wise Greater Than:\", result_gt)"
      ],
      "metadata": {
        "colab": {
          "base_uri": "https://localhost:8080/"
        },
        "id": "zO6Ref26XssP",
        "outputId": "1de43091-cf39-42e2-ec33-d77bbfa9fa38"
      },
      "execution_count": 50,
      "outputs": [
        {
          "output_type": "stream",
          "name": "stdout",
          "text": [
            "Element-wise Equality: [False  True False  True]\n",
            "Element-wise Greater Than: [False False  True False]\n"
          ]
        }
      ]
    },
    {
      "cell_type": "code",
      "source": [
        "import numpy as np\n",
        "# Investment details\n",
        "monthly_contribution = 1000 # Monthly contribution in dollars\n",
        "annual_interest_rate = 6.0 # 6% annual interest rate\n",
        "investment_horizon_years = 20 # 20 years\n",
        "# Calculate monthly interest rate and total number of contributions\n",
        "monthly_interest_rate = (annual_interest_rate / 12) / 100\n",
        "total_contributions = investment_horizon_years * 12\n",
        "# Calculate future value of the investment\n",
        "future_value = monthly_contribution * ((1 + monthly_interest_rate) **\n",
        "total_contributions - 1) / monthly_interest_rate\n",
        "print(\"Future Value of Investment:\", round(future_value, 2))"
      ],
      "metadata": {
        "colab": {
          "base_uri": "https://localhost:8080/"
        },
        "id": "RWaLqh8mXx0y",
        "outputId": "7035bb21-9266-4137-d46f-308497fe07a5"
      },
      "execution_count": 51,
      "outputs": [
        {
          "output_type": "stream",
          "name": "stdout",
          "text": [
            "Future Value of Investment: 462040.9\n"
          ]
        }
      ]
    },
    {
      "cell_type": "code",
      "source": [
        "import numpy as np\n",
        "# Simulated weather data (temperature in Celsius and rainfall in mm)\n",
        "temperature = np.array([28, 32, 31, 29, 35, 26, 30])\n",
        "rainfall = np.array([5, 0, 10, 0, 0, 8, 15])\n",
        "# Identify hot days (temperature above 30°C) and rainy days (rainfall > 0 mm)\n",
        "hot_days = temperature > 30\n",
        "rainy_days = rainfall > 0\n",
        "# Days that are both hot and rainy\n",
        "hot_and_rainy_days = hot_days & rainy_days\n",
        "# Days that are either hot or rainy\n",
        "hot_or_rainy_days = hot_days | rainy_days\n",
        "print(\"Hot Days:\", hot_days)\n",
        "print(\"Rainy Days:\", rainy_days)\n",
        "print(\"Hot and Rainy Days:\", hot_and_rainy_days)\n",
        "print(\"Hot or Rainy Days:\", hot_or_rainy_days)"
      ],
      "metadata": {
        "colab": {
          "base_uri": "https://localhost:8080/"
        },
        "id": "0ZZR1DIeYBFh",
        "outputId": "311a5bef-be53-470e-95a8-ce6a194373a6"
      },
      "execution_count": 52,
      "outputs": [
        {
          "output_type": "stream",
          "name": "stdout",
          "text": [
            "Hot Days: [False  True  True False  True False False]\n",
            "Rainy Days: [ True False  True False False  True  True]\n",
            "Hot and Rainy Days: [False False  True False False False False]\n",
            "Hot or Rainy Days: [ True  True  True False  True  True  True]\n"
          ]
        }
      ]
    },
    {
      "cell_type": "code",
      "source": [
        "import numpy as np\n",
        "# Create a NumPy array\n",
        "arr = np.array([1, 2, 3, 4, 5, 6])\n",
        "# Create a boolean mask based on multiple conditions\n",
        "mask = (arr > 2) & (arr < 6)\n",
        "# Use the mask to filter elements in the array\n",
        "filtered_array = arr[mask]\n",
        "# Print the filtered array\n",
        "print(\"Filtered Array:\", filtered_array)"
      ],
      "metadata": {
        "colab": {
          "base_uri": "https://localhost:8080/"
        },
        "id": "zGVcZyzDWf1B",
        "outputId": "40f86230-1c10-43ad-babe-8cf06e98442c"
      },
      "execution_count": 46,
      "outputs": [
        {
          "output_type": "stream",
          "name": "stdout",
          "text": [
            "Filtered Array: [3 4 5]\n"
          ]
        }
      ]
    },
    {
      "cell_type": "code",
      "source": [
        "import numpy as np\n",
        "# Create a 2D NumPy array representing exam scores for 10 students in 3 subjects\n",
        "exam_scores = np.array([[85, 90, 78],\n",
        "[92, 88, 95],\n",
        "[77, 80, 82],\n",
        "[65, 70, 68],\n",
        "[88, 85, 90],\n",
        "[72, 78, 75],\n",
        "[95, 92, 96],\n",
        "[68, 70, 75],\n",
        "[88, 85, 89],\n",
        "[78, 82, 80]])\n",
        "# Print the original exam_scores array\n",
        "print(\"Original exam_scores array:\")\n",
        "print(exam_scores)\n",
        "first_student_scores = exam_scores[0]\n",
        "print(\"\\nScores of the first student:\")\n",
        "print(first_student_scores)\n",
        "math_scores = exam_scores[:, 0]\n",
        "print(\"\\nMath scores for all students:\")\n",
        "print(math_scores)\n",
        "array_shape = exam_scores.shape\n",
        "print(\"\\nShape of the exam_scores array:\")\n",
        "print(array_shape)\n",
        "reshaped_scores = exam_scores.reshape(3, 10)\n",
        "print(\"\\nReshaped exam_scores array:\")\n",
        "print(reshaped_scores)\n"
      ],
      "metadata": {
        "colab": {
          "base_uri": "https://localhost:8080/"
        },
        "id": "WZqY_sSUVeyv",
        "outputId": "22c1154a-04bb-4c8c-f9de-0ec5c40f97f2"
      },
      "execution_count": 43,
      "outputs": [
        {
          "output_type": "stream",
          "name": "stdout",
          "text": [
            "Original exam_scores array:\n",
            "[[85 90 78]\n",
            " [92 88 95]\n",
            " [77 80 82]\n",
            " [65 70 68]\n",
            " [88 85 90]\n",
            " [72 78 75]\n",
            " [95 92 96]\n",
            " [68 70 75]\n",
            " [88 85 89]\n",
            " [78 82 80]]\n",
            "\n",
            "Scores of the first student:\n",
            "[85 90 78]\n",
            "\n",
            "Math scores for all students:\n",
            "[85 92 77 65 88 72 95 68 88 78]\n",
            "\n",
            "Shape of the exam_scores array:\n",
            "(10, 3)\n",
            "\n",
            "Reshaped exam_scores array:\n",
            "[[85 90 78 92 88 95 77 80 82 65]\n",
            " [70 68 88 85 90 72 78 75 95 92]\n",
            " [96 68 70 75 88 85 89 78 82 80]]\n"
          ]
        }
      ]
    },
    {
      "cell_type": "code",
      "source": [
        "import numpy as np\n",
        "\n",
        "# Sample data of candidates' qualifications (degree and years of experience)\n",
        "# 1 represents having a relevant degree, 0 represents not having\n",
        "degrees = np.array([1, 1, 0, 1, 1])  # Example: 1 indicates having a relevant degree\n",
        "years_of_experience = np.array([3, 5, 2, 7, 4])  # Example: years of experience\n",
        "\n",
        "# Define the criteria for qualifications\n",
        "required_degree = 1  # Required degree: 1 for relevant degree, 0 otherwise\n",
        "min_experience = 4  # Minimum required years of experience\n",
        "\n",
        "# Filter candidates who meet the qualifications\n",
        "qualified_candidates = (degrees == required_degree) & (years_of_experience >= min_experience)\n",
        "\n",
        "# Identify the indices of qualified candidates\n",
        "qualified_indices = np.where(qualified_candidates)[0]\n",
        "\n",
        "# Display the indices of qualified candidates\n",
        "print(\"Indices of Qualified Candidates:\", qualified_indices)\n"
      ],
      "metadata": {
        "colab": {
          "base_uri": "https://localhost:8080/"
        },
        "id": "HfOqC1KHYQLg",
        "outputId": "26ecbff5-122b-4317-98b1-0e1416d1ded1"
      },
      "execution_count": 53,
      "outputs": [
        {
          "output_type": "stream",
          "name": "stdout",
          "text": [
            "Indices of Qualified Candidates: [1 3 4]\n"
          ]
        }
      ]
    },
    {
      "cell_type": "code",
      "source": [
        "import numpy as np\n",
        "import matplotlib.pyplot as plt\n",
        "\n",
        "# Generate a 100x100 pixel image with random pixel values\n",
        "image = np.random.randint(0, 256, (100, 100))\n",
        "\n",
        "# Display the image\n",
        "plt.imshow(image, cmap='gray')\n",
        "plt.axis('off')  # Hide axis\n",
        "plt.title('Random Image')\n",
        "plt.show()"
      ],
      "metadata": {
        "colab": {
          "base_uri": "https://localhost:8080/",
          "height": 428
        },
        "id": "MKgY1wb6TX5a",
        "outputId": "c8e0cc80-071d-42f8-e3ea-cd4d430e434a"
      },
      "execution_count": 39,
      "outputs": [
        {
          "output_type": "display_data",
          "data": {
            "text/plain": [
              "<Figure size 640x480 with 1 Axes>"
            ],
            "image/png": "[encoded data removed]"
          },
          "metadata": {}
        }
      ]
    },
    {
      "cell_type": "code",
      "source": [
        "import matplotlib.pyplot as plt\n",
        "# Sample data: Daily temperatures for a month\n",
        "days = list(range(1, 31))\n",
        "temperatures = [68, 70, 72, 75, 77, 80, 82, 83, 81, 78, 75, 72, 71, 70, 72, 74, 77, 79,\n",
        "80, 82, 84, 86, 88, 87, 85, 82, 80, 77, 75, 73]\n",
        "# Create the line plot\n",
        "plt.plot(days, temperatures,marker='o')\n",
        "# Add labels and a title\n",
        "plt.xlabel(\"Day of the Month\")\n",
        "plt.ylabel(\"Temperature (°F)\")\n",
        "plt.title(\"Daily Temperature Over a Month\")\n",
        "plt.show()\n"
      ],
      "metadata": {
        "colab": {
          "base_uri": "https://localhost:8080/",
          "height": 472
        },
        "id": "1lyXiqaOEfq3",
        "outputId": "fcf6c66c-cddf-41a8-b42a-a83835291ade"
      },
      "execution_count": 6,
      "outputs": [
        {
          "output_type": "display_data",
          "data": {
            "text/plain": [
              "<Figure size 640x480 with 1 Axes>"
            ],
            "image/png": "[encoded data removed]"
          },
          "metadata": {}
        }
      ]
    },
    {
      "cell_type": "code",
      "source": [
        "import keyword\n",
        "dis = keyword.kwlist\n",
        "print(dis)"
      ],
      "metadata": {
        "colab": {
          "base_uri": "https://localhost:8080/"
        },
        "id": "JlU3y-dvpg7O",
        "outputId": "4eea907a-f3b2-4e37-da15-b32b9e453692"
      },
      "execution_count": 5,
      "outputs": [
        {
          "output_type": "stream",
          "name": "stdout",
          "text": [
            "['False', 'None', 'True', 'and', 'as', 'assert', 'async', 'await', 'break', 'class', 'continue', 'def', 'del', 'elif', 'else', 'except', 'finally', 'for', 'from', 'global', 'if', 'import', 'in', 'is', 'lambda', 'nonlocal', 'not', 'or', 'pass', 'raise', 'return', 'try', 'while', 'with', 'yield']\n"
          ]
        }
      ]
    },
    {
      "cell_type": "code",
      "source": [
        "import matplotlib.pyplot as plt\n",
        "# Sample data: Number of books sold by genre over a year\n",
        "genres = [\"Mystery\", \"Romance\", \"Science Fiction\", \"Fantasy\", \"Thriller\"]\n",
        "books_sold = [120, 90, 80, 110, 70]\n",
        "# Create the bar plot\n",
        "plt.bar(genres, books_sold)\n",
        "# Add labels and a title\n",
        "plt.xlabel(\"Genre\")\n",
        "plt.ylabel(\"Number of Books Sold\")\n",
        "plt.title(\"Books Sold by Genre Over a Year\")\n",
        "# Display the plot\n",
        "plt.show()\n",
        "\n"
      ],
      "metadata": {
        "colab": {
          "base_uri": "https://localhost:8080/",
          "height": 472
        },
        "id": "4fMXyxZOFvBY",
        "outputId": "657384f8-8266-46d1-d0fe-ca9f36405016"
      },
      "execution_count": 7,
      "outputs": [
        {
          "output_type": "display_data",
          "data": {
            "text/plain": [
              "<Figure size 640x480 with 1 Axes>"
            ],
            "image/png": "[encoded data removed]"
          },
          "metadata": {}
        }
      ]
    },
    {
      "cell_type": "code",
      "source": [
        "import matplotlib.pyplot as plt\n",
        "# Sample data: Population distribution by age group in a city\n",
        "age_groups = [\"0-10\", \"11-20\", \"21-30\", \"31-40\", \"41-50\", \"51-60\", \"61-70\", \"71+\"]\n",
        "population = [15000, 22000, 30000, 28000, 25000, 18000, 12000, 8000]\n",
        "# Create the bar plot\n",
        "plt.barh(age_groups, population, color='lightgreen')\n",
        "# Add labels and a title\n",
        "plt.xlabel(\"Age Group\")\n",
        "plt.ylabel(\"Population\")\n",
        "plt.title(\"Population Distribution by Age Group\")\n",
        "# Display the plot\n",
        "plt.show()"
      ],
      "metadata": {
        "colab": {
          "base_uri": "https://localhost:8080/",
          "height": 472
        },
        "id": "2RVMduq8GJeq",
        "outputId": "aef7e864-1253-4fc6-a0d3-72f0dea87fc8"
      },
      "execution_count": 10,
      "outputs": [
        {
          "output_type": "display_data",
          "data": {
            "text/plain": [
              "<Figure size 640x480 with 1 Axes>"
            ],
            "image/png": "[encoded data removed]"
          },
          "metadata": {}
        }
      ]
    },
    {
      "cell_type": "code",
      "source": [
        "import matplotlib.pyplot as plt\n",
        "ages = [1, 1, 2, 3, 3, 5, 7, 8, 9, 10,\n",
        "10, 11, 11, 13, 13, 15, 16, 17, 18, 18,\n",
        "18, 19, 20, 21, 21, 23, 24, 24, 25, 25,\n",
        "25, 25, 26, 26, 26, 27, 27, 27, 27, 27,\n",
        "29, 30, 30, 31, 33, 34, 34, 34, 35, 36,\n",
        "36, 37, 37, 38, 38, 39, 40, 41, 41, 42,\n",
        "43, 44, 45, 45, 46, 47, 48, 48, 49, 50,\n",
        "51, 52, 53, 54, 55, 55, 56, 57, 58, 60,\n",
        "61, 63, 64, 65, 66, 68, 70, 71, 72, 74,\n",
        "75, 77, 81, 83, 84, 87, 89, 90, 90, 91]\n",
        "b=[0,10,20,30,40,50,60,70,80,90,100]\n",
        "plt.hist(ages, bins=b, edgecolor='k',color='lightyellow')\n",
        "plt.xlabel('Age')\n",
        "plt.ylabel('Number of Respondents')\n",
        "plt.title('Age Distribution of Survey Respondents')\n",
        "plt.show()\n"
      ],
      "metadata": {
        "colab": {
          "base_uri": "https://localhost:8080/",
          "height": 472
        },
        "id": "LYqoRUqnGnmR",
        "outputId": "8ae856eb-a03c-480e-83dd-93655d44e503"
      },
      "execution_count": 12,
      "outputs": [
        {
          "output_type": "display_data",
          "data": {
            "text/plain": [
              "<Figure size 640x480 with 1 Axes>"
            ],
            "image/png": "[encoded data removed]"
          },
          "metadata": {}
        }
      ]
    },
    {
      "cell_type": "code",
      "source": [
        "import pandas as ps\n",
        "data_frame = ps.read_csv('https://raw.githubusercontent.com/AnudipAE/DANLC/master/customer_data.csv')\n",
        "print(data_frame)"
      ],
      "metadata": {
        "colab": {
          "base_uri": "https://localhost:8080/"
        },
        "id": "D7gEJPkJLj5d",
        "outputId": "dda5ab6a-bb89-40c8-d39f-624f5c13924b"
      },
      "execution_count": 15,
      "outputs": [
        {
          "output_type": "stream",
          "name": "stdout",
          "text": [
            "     Transaction_date  Transaction_ID  Gender   Age Marital_status  \\\n",
            "0          01-01-2019          151200  Female  19.0         Single   \n",
            "1          02-01-2019          151201    Male  49.0         Single   \n",
            "2          03-01-2019          151202    Male  63.0        Married   \n",
            "3          04-01-2019          151203     NaN  18.0         Single   \n",
            "4          05-01-2019          151204    Male  27.0         Single   \n",
            "...               ...             ...     ...   ...            ...   \n",
            "2507       12-11-2025          153695  Female  57.0         Single   \n",
            "2508       13-11-2025          153696  Female  36.0        Married   \n",
            "2509       14-11-2025          153697    Male  22.0         Single   \n",
            "2510       15-11-2025          153698     NaN  44.0         Single   \n",
            "2511       16-11-2025          153699    Male  48.0         Single   \n",
            "\n",
            "         State_names   Segment Employees_status Payment_method  Referal  \\\n",
            "0             Kansas     Basic     Unemployment          Other      1.0   \n",
            "1           Illinois     Basic    self-employed           Card      0.0   \n",
            "2         New Mexico     Basic          workers         PayPal      1.0   \n",
            "3           Virginia  Platinum          workers           Card      1.0   \n",
            "4        Connecticut     Basic    self-employed           Card      0.0   \n",
            "...              ...       ...              ...            ...      ...   \n",
            "2507  South Carolina  Platinum    self-employed           Card      0.0   \n",
            "2508          Hawaii    Silver    self-employed         PayPal      1.0   \n",
            "2509  South Carolina     Basic          workers         PayPal      1.0   \n",
            "2510        New York     Basic        Employees         PayPal      0.0   \n",
            "2511      California    Silver          workers         PayPal      1.0   \n",
            "\n",
            "      Amount_spent  \n",
            "0          2051.36  \n",
            "1           544.04  \n",
            "2          1572.60  \n",
            "3          1199.79  \n",
            "4              NaN  \n",
            "...            ...  \n",
            "2507        150.10  \n",
            "2508        708.88  \n",
            "2509       2030.07  \n",
            "2510       1909.77  \n",
            "2511       1073.15  \n",
            "\n",
            "[2512 rows x 11 columns]\n"
          ]
        }
      ]
    },
    {
      "cell_type": "code",
      "source": [
        "print(data_frame.head(5)) # to display top 5 data"
      ],
      "metadata": {
        "colab": {
          "base_uri": "https://localhost:8080/"
        },
        "id": "yGN-NX2mMVpu",
        "outputId": "83c2e032-92b7-4af0-f0ff-416efecc542c"
      },
      "execution_count": 17,
      "outputs": [
        {
          "output_type": "stream",
          "name": "stdout",
          "text": [
            "  Transaction_date  Transaction_ID  Gender   Age Marital_status  State_names  \\\n",
            "0       01-01-2019          151200  Female  19.0         Single       Kansas   \n",
            "1       02-01-2019          151201    Male  49.0         Single     Illinois   \n",
            "2       03-01-2019          151202    Male  63.0        Married   New Mexico   \n",
            "3       04-01-2019          151203     NaN  18.0         Single     Virginia   \n",
            "4       05-01-2019          151204    Male  27.0         Single  Connecticut   \n",
            "\n",
            "    Segment Employees_status Payment_method  Referal  Amount_spent  \n",
            "0     Basic     Unemployment          Other      1.0       2051.36  \n",
            "1     Basic    self-employed           Card      0.0        544.04  \n",
            "2     Basic          workers         PayPal      1.0       1572.60  \n",
            "3  Platinum          workers           Card      1.0       1199.79  \n",
            "4     Basic    self-employed           Card      0.0           NaN  \n"
          ]
        }
      ]
    },
    {
      "cell_type": "code",
      "source": [
        "print(data_frame.tail(2)) # to dipaly the last 2 data"
      ],
      "metadata": {
        "colab": {
          "base_uri": "https://localhost:8080/"
        },
        "id": "a0nlmpiEM2jj",
        "outputId": "a4ec99f9-fb5d-4346-e7cb-bcd809aa0d69"
      },
      "execution_count": 18,
      "outputs": [
        {
          "output_type": "stream",
          "name": "stdout",
          "text": [
            "     Transaction_date  Transaction_ID Gender   Age Marital_status State_names  \\\n",
            "2510       15-11-2025          153698    NaN  44.0         Single    New York   \n",
            "2511       16-11-2025          153699   Male  48.0         Single  California   \n",
            "\n",
            "     Segment Employees_status Payment_method  Referal  Amount_spent  \n",
            "2510   Basic        Employees         PayPal      0.0       1909.77  \n",
            "2511  Silver          workers         PayPal      1.0       1073.15  \n"
          ]
        }
      ]
    },
    {
      "cell_type": "code",
      "source": [
        "print(type(data_frame))"
      ],
      "metadata": {
        "colab": {
          "base_uri": "https://localhost:8080/"
        },
        "id": "MA7NuVkrNHvf",
        "outputId": "a03b31f3-f244-42bd-cd80-13f52bfab358"
      },
      "execution_count": 19,
      "outputs": [
        {
          "output_type": "stream",
          "name": "stdout",
          "text": [
            "<class 'pandas.core.frame.DataFrame'>\n"
          ]
        }
      ]
    },
    {
      "cell_type": "code",
      "source": [
        "print(data_frame['Age'])"
      ],
      "metadata": {
        "colab": {
          "base_uri": "https://localhost:8080/"
        },
        "id": "SDAtE9haNSX8",
        "outputId": "34009f77-362b-42a5-eaea-1289c8fbdd2c"
      },
      "execution_count": 20,
      "outputs": [
        {
          "output_type": "stream",
          "name": "stdout",
          "text": [
            "0       19.0\n",
            "1       49.0\n",
            "2       63.0\n",
            "3       18.0\n",
            "4       27.0\n",
            "        ... \n",
            "2507    57.0\n",
            "2508    36.0\n",
            "2509    22.0\n",
            "2510    44.0\n",
            "2511    48.0\n",
            "Name: Age, Length: 2512, dtype: float64\n"
          ]
        }
      ]
    },
    {
      "cell_type": "code",
      "source": [
        "print(type(data_frame['Age']))"
      ],
      "metadata": {
        "id": "nd2eRJUfNoJJ"
      },
      "execution_count": null,
      "outputs": []
    },
    {
      "cell_type": "code",
      "source": [
        "unique_data=set(data_frame['Age'].value_counts())\n",
        "print(unique_data)"
      ],
      "metadata": {
        "colab": {
          "base_uri": "https://localhost:8080/"
        },
        "id": "B1-M4gvKN52N",
        "outputId": "412ca5e8-2ef9-42f7-a316-5d249f3bb0a0"
      },
      "execution_count": 27,
      "outputs": [
        {
          "output_type": "stream",
          "name": "stdout",
          "text": [
            "{18, 21, 22, 28, 31, 33, 34, 35, 36, 37, 38, 39, 40, 41, 42, 43, 44, 45, 46, 47, 48, 50, 51}\n"
          ]
        }
      ]
    },
    {
      "cell_type": "code",
      "source": [],
      "metadata": {
        "id": "pdI0Av5IPwjv"
      },
      "execution_count": null,
      "outputs": []
    }
  ]
}