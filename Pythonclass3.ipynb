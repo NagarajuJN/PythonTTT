{
  "cells": [
    {
      "cell_type": "code",
      "execution_count": null,
      "metadata": {
        "colab": {
          "base_uri": "https://localhost:8080/"
        },
        "id": "CwWbr4VucS1k",
        "outputId": "5c252d2d-549a-4fb1-9d3a-9114cdfd4ab8"
      },
      "outputs": [
        {
          "name": "stdout",
          "output_type": "stream",
          "text": [
            "13\n",
            "7\n",
            "30\n",
            "3.3333333333333335\n",
            "1000\n",
            "1\n",
            "8\n"
          ]
        }
      ],
      "source": [
        "# operators:\n",
        "#Arithmetic (+,-,/,*,%,**,//)\n",
        "a = 10\n",
        "b = 3\n",
        "print(a+b)\n",
        "print(a-b)\n",
        "print(a*b)\n",
        "print(a/b) # 10/3 = > 3.3333 (division)\n",
        "print(a**b) # 10**3 = > 10^3 = 1000 (power/exponentition)\n",
        "print(a%b) # %==> modulus ---> it will alway's given remainder\n",
        "# if num is less than denomin , answer should num\n",
        "# 10%3 == > 1\n",
        "print(8%9)"
      ]
    },
    {
      "cell_type": "code",
      "execution_count": null,
      "metadata": {
        "colab": {
          "base_uri": "https://localhost:8080/"
        },
        "id": "WghNfbiYiZjH",
        "outputId": "e3b242f2-007b-4cf8-dc1b-2f8d2b84aca2"
      },
      "outputs": [
        {
          "name": "stdout",
          "output_type": "stream",
          "text": [
            "False\n",
            "True\n",
            "True\n",
            "False\n",
            "True\n",
            "False\n"
          ]
        }
      ],
      "source": [
        "#comparison operators # return boolean type true or false\n",
        "x = 10\n",
        "y = 20\n",
        "print(x == y)# == Equal to\n",
        "print(x != y) # != Not equal\n",
        "print(x < y) # < less than  ==> 10<20\n",
        "print(x > y) # > greater than =>> 10>20\n",
        "print( x <= y ) # <= less than or equal ==> 10<=20\n",
        "print( x >= y ) # >= grather than or equal ==> 10>=20"
      ]
    },
    {
      "cell_type": "code",
      "execution_count": null,
      "metadata": {
        "colab": {
          "base_uri": "https://localhost:8080/"
        },
        "id": "B6U4CKjMj24U",
        "outputId": "461e5710-a1f5-4fae-c40c-773a8d632b31"
      },
      "outputs": [
        {
          "name": "stdout",
          "output_type": "stream",
          "text": [
            "False\n",
            "True\n",
            "False\n"
          ]
        }
      ],
      "source": [
        "# Logical operators (and , or ,  not )\n",
        "a = True # 1\n",
        "b = False # 0\n",
        "print(a and b ) # 1 and 0 => 0 => False\n",
        "print(a or b) # 1 or 0 => 1 => True\n",
        "print(not a ) #  not 1 => 0 => False\n"
      ]
    },
    {
      "cell_type": "code",
      "execution_count": null,
      "metadata": {
        "colab": {
          "base_uri": "https://localhost:8080/"
        },
        "id": "FTZCCCBDlzOb",
        "outputId": "a675aff5-6d4d-4ef5-d899-130c8ed6d39d"
      },
      "outputs": [
        {
          "name": "stdout",
          "output_type": "stream",
          "text": [
            "12\n",
            "24\n"
          ]
        }
      ],
      "source": [
        "# Assignment(=)\n",
        "# Augmeneted Assignment (+= , -=, *=)\n",
        "x = 12\n",
        "print(x)\n",
        "x*=2  # we can also write like or equilavent => x = x*2 ==> x = 12*2 = 24\n",
        "print(x)\n"
      ]
    },
    {
      "cell_type": "code",
      "execution_count": null,
      "metadata": {
        "id": "TpZTyGf9nHEx"
      },
      "outputs": [],
      "source": [
        "from re import S\n",
        "# Bitwise (bit manipulation)\n",
        "& ==> bitwise AND\n",
        "| == > bitwise OR"
      ]
    },
    {
      "cell_type": "code",
      "execution_count": null,
      "metadata": {
        "colab": {
          "base_uri": "https://localhost:8080/"
        },
        "id": "iK4mwa_-nrSj",
        "outputId": "3f4a8160-6db4-4b84-fa3e-68508871b155"
      },
      "outputs": [
        {
          "name": "stdout",
          "output_type": "stream",
          "text": [
            "1\n",
            "7\n"
          ]
        }
      ],
      "source": [
        "x  = 5   # bin = >\n",
        "y =  3\n",
        "bitwise_and =  x & y\n",
        "print(bitwise_and)\n",
        "bitwise_or = x | y\n",
        "print(bitwise_or)"
      ]
    },
    {
      "cell_type": "code",
      "execution_count": null,
      "metadata": {
        "colab": {
          "base_uri": "https://localhost:8080/"
        },
        "id": "KafkZWbeu3qN",
        "outputId": "71974f24-2a7e-4dcc-edfe-d84c816bda38"
      },
      "outputs": [
        {
          "name": "stdout",
          "output_type": "stream",
          "text": [
            "8.0\n"
          ]
        }
      ],
      "source": [
        "# BODMAS =>  2*3+4/2 = 2*3+2=> 6+2 = 8  PEMDAS\n",
        "print(2*3+4/2)"
      ]
    },
    {
      "cell_type": "code",
      "execution_count": null,
      "metadata": {
        "id": "THwALN_Dv4Q2"
      },
      "outputs": [],
      "source": [
        "#  PEMDAS P --> parantheses\n",
        "E --> Expo ---> ^\n",
        "M --> Mul\n",
        "D --> Div\n",
        "A -> Add\n",
        "S --> Sub"
      ]
    },
    {
      "cell_type": "code",
      "execution_count": null,
      "metadata": {
        "colab": {
          "base_uri": "https://localhost:8080/"
        },
        "id": "qhCjOkrswejA",
        "outputId": "b71693a1-08f8-41ea-857b-2fa5001d934d"
      },
      "outputs": [
        {
          "name": "stdout",
          "output_type": "stream",
          "text": [
            "4\n"
          ]
        }
      ],
      "source": [
        "# 3*(1+2)-3^2 = >  3*1+2-3^2 => 3*1+2-9 ==> 3+2-9 ==> 5-(-9) ==> 4\n",
        "print(3*(1+2)-3^2)"
      ]
    },
    {
      "cell_type": "code",
      "execution_count": null,
      "metadata": {
        "colab": {
          "base_uri": "https://localhost:8080/"
        },
        "id": "Aq8dUgpSwaXg",
        "outputId": "23c1ab0b-894a-483e-cd7f-17cefa19c3be"
      },
      "outputs": [
        {
          "name": "stdout",
          "output_type": "stream",
          "text": [
            "-9\n"
          ]
        }
      ],
      "source": [
        "print(9+3-7*3)   # 9+3-21  => 12-21 = -9"
      ]
    },
    {
      "cell_type": "code",
      "execution_count": null,
      "metadata": {
        "colab": {
          "base_uri": "https://localhost:8080/"
        },
        "id": "lsfQVaPOz5aS",
        "outputId": "193436cd-537a-469c-84b4-bdc9bd638b05"
      },
      "outputs": [
        {
          "name": "stdout",
          "output_type": "stream",
          "text": [
            "Enter a number 1: 10\n",
            "Enter a number 2: 20\n",
            "10\n",
            "20\n",
            "30\n"
          ]
        }
      ],
      "source": [
        "num1 = int(input(\"Enter a number 1: \"))\n",
        "num2 = int(input(\"Enter a number 2: \"))\n",
        "print(num1)\n",
        "print(num2)\n",
        "res = num1+num2\n",
        "print(res)\n",
        "\n"
      ]
    },
    {
      "cell_type": "code",
      "execution_count": null,
      "metadata": {
        "colab": {
          "base_uri": "https://localhost:8080/",
          "height": 106
        },
        "id": "mwaGIqHJ31jI",
        "outputId": "26c8556e-7444-43d0-a5df-fd319148fe0d"
      },
      "outputs": [
        {
          "ename": "SyntaxError",
          "evalue": "invalid decimal literal (<ipython-input-34-bf061105d866>, line 1)",
          "output_type": "error",
          "traceback": [
            "\u001b[0;36m  File \u001b[0;32m\"<ipython-input-34-bf061105d866>\"\u001b[0;36m, line \u001b[0;32m1\u001b[0m\n\u001b[0;31m    1name = 10\u001b[0m\n\u001b[0m    ^\u001b[0m\n\u001b[0;31mSyntaxError\u001b[0m\u001b[0;31m:\u001b[0m invalid decimal literal\n"
          ]
        }
      ],
      "source": [
        "1name = 10\n",
        "print(1name)"
      ]
    },
    {
      "cell_type": "code",
      "execution_count": null,
      "metadata": {
        "colab": {
          "base_uri": "https://localhost:8080/",
          "height": 263
        },
        "id": "TsJgZLv_WBdM",
        "outputId": "34efb5c3-a892-4c5e-e9a1-f40520dc1a4f"
      },
      "outputs": [
        {
          "name": "stdout",
          "output_type": "stream",
          "text": [
            "Prg started normally\n",
            "Enter a value1:10\n",
            "Enter a value2:0\n"
          ]
        },
        {
          "ename": "ZeroDivisionError",
          "evalue": "division by zero",
          "output_type": "error",
          "traceback": [
            "\u001b[0;31m---------------------------------------------------------------------------\u001b[0m",
            "\u001b[0;31mZeroDivisionError\u001b[0m                         Traceback (most recent call last)",
            "\u001b[0;32m<ipython-input-42-b661101a7632>\u001b[0m in \u001b[0;36m<cell line: 4>\u001b[0;34m()\u001b[0m\n\u001b[1;32m      2\u001b[0m \u001b[0ma\u001b[0m \u001b[0;34m=\u001b[0m \u001b[0mint\u001b[0m\u001b[0;34m(\u001b[0m\u001b[0minput\u001b[0m\u001b[0;34m(\u001b[0m\u001b[0;34m\"Enter a value1:\"\u001b[0m\u001b[0;34m)\u001b[0m\u001b[0;34m)\u001b[0m\u001b[0;34m\u001b[0m\u001b[0;34m\u001b[0m\u001b[0m\n\u001b[1;32m      3\u001b[0m \u001b[0mb\u001b[0m \u001b[0;34m=\u001b[0m \u001b[0mint\u001b[0m\u001b[0;34m(\u001b[0m\u001b[0minput\u001b[0m\u001b[0;34m(\u001b[0m\u001b[0;34m\"Enter a value2:\"\u001b[0m\u001b[0;34m)\u001b[0m\u001b[0;34m)\u001b[0m\u001b[0;34m\u001b[0m\u001b[0;34m\u001b[0m\u001b[0m\n\u001b[0;32m----> 4\u001b[0;31m \u001b[0mres\u001b[0m \u001b[0;34m=\u001b[0m \u001b[0ma\u001b[0m\u001b[0;34m/\u001b[0m\u001b[0mb\u001b[0m\u001b[0;34m\u001b[0m\u001b[0;34m\u001b[0m\u001b[0m\n\u001b[0m\u001b[1;32m      5\u001b[0m \u001b[0mprint\u001b[0m\u001b[0;34m(\u001b[0m\u001b[0mres\u001b[0m\u001b[0;34m)\u001b[0m\u001b[0;34m\u001b[0m\u001b[0;34m\u001b[0m\u001b[0m\n\u001b[1;32m      6\u001b[0m \u001b[0mprint\u001b[0m\u001b[0;34m(\u001b[0m\u001b[0;34m\"Prg ended normally\"\u001b[0m\u001b[0;34m)\u001b[0m\u001b[0;34m\u001b[0m\u001b[0;34m\u001b[0m\u001b[0m\n",
            "\u001b[0;31mZeroDivisionError\u001b[0m: division by zero"
          ]
        }
      ],
      "source": [
        "print(\"Prg started normally\")\n",
        "a = int(input(\"Enter a value1:\"))\n",
        "b = int(input(\"Enter a value2:\"))\n",
        "res = a/b\n",
        "print(res)\n",
        "print(\"Prg ended normally\")"
      ]
    },
    {
      "cell_type": "code",
      "execution_count": null,
      "metadata": {
        "colab": {
          "base_uri": "https://localhost:8080/"
        },
        "id": "KWVi04yBW3rB",
        "outputId": "57362e7a-ce59-42d2-a0de-3bafa34da3a7"
      },
      "outputs": [
        {
          "name": "stdout",
          "output_type": "stream",
          "text": [
            "Prg started normally\n",
            "Enter a value1:10\n",
            "Enter a value2:0\n",
            "Problem in division\n",
            "Prg ended normally\n"
          ]
        }
      ],
      "source": [
        "print(\"Prg started normally\")\n",
        "a = int(input(\"Enter a value1:\"))\n",
        "b = int(input(\"Enter a value2:\"))\n",
        "try:\n",
        "  res = a/b\n",
        "  print(\"Divsion is :\",res)\n",
        "except:\n",
        "  print(\"Problem in division\")\n",
        "print(\"Prg ended normally\")"
      ]
    },
    {
      "cell_type": "code",
      "execution_count": null,
      "metadata": {
        "colab": {
          "base_uri": "https://localhost:8080/"
        },
        "id": "dc1p3_yjZpNa",
        "outputId": "58b04923-8aec-4608-8b24-2d44499ac318"
      },
      "outputs": [
        {
          "name": "stdout",
          "output_type": "stream",
          "text": [
            "Prg started normally\n",
            "Enter a value1:10\n",
            "Enter a value2:0\n",
            "Problem in division\n",
            "Prg ended normally\n"
          ]
        }
      ],
      "source": [
        "print(\"Prg started normally\")\n",
        "a = int(input(\"Enter a value1:\"))\n",
        "b = int(input(\"Enter a value2:\"))\n",
        "try:\n",
        "  res = a/b\n",
        "  print(\"Divsion is :\",res)\n",
        "except ZeroDivisionError:\n",
        "  print(\"Problem in division\")\n",
        "print(\"Prg ended normally\")"
      ]
    },
    {
      "cell_type": "code",
      "execution_count": null,
      "metadata": {
        "id": "H97ac4AmaEaH"
      },
      "outputs": [],
      "source": [
        "from logging import exception\n",
        "# Syntax:\n",
        "try:\n",
        "  problem creating statement  # put inside try block\n",
        "except exception_type:\n",
        "  any statement after the handling the exception # except Block"
      ]
    },
    {
      "cell_type": "code",
      "execution_count": null,
      "metadata": {
        "id": "3IkNyMYHbK19"
      },
      "outputs": [],
      "source": [
        "print(\"Prg started normally\")\n",
        "res = int(input(\"Enter a something:\"))\n",
        "print(\"res is :\",res)\n",
        "print(\"Prg ended normally\")"
      ]
    },
    {
      "cell_type": "code",
      "execution_count": null,
      "metadata": {
        "colab": {
          "background_save": true,
          "base_uri": "https://localhost:8080/"
        },
        "id": "_t-U8vU8cZTa",
        "outputId": "97ed2a3e-e31e-4b2b-c14f-323e63552e88"
      },
      "outputs": [
        {
          "name": "stdout",
          "output_type": "stream",
          "text": [
            "Prg started normally\n"
          ]
        }
      ],
      "source": [
        "print(\"Prg started normally\")\n",
        "try:\n",
        "  res = int(input(\"Enter a something:\"))\n",
        "  print(\"res is :\",res)\n",
        "except ValueError:\n",
        "  print(\" problem in input type , Pls enter only number type\")\n",
        "print(\"Prg ended normally\")"
      ]
    }
  ],
  "metadata": {
    "colab": {
      "provenance": []
    },
    "kernelspec": {
      "display_name": "Python 3",
      "name": "python3"
    },
    "language_info": {
      "name": "python"
    }
  },
  "nbformat": 4,
  "nbformat_minor": 0
}